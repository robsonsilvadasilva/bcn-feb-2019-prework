{
 "cells": [
  {
   "cell_type": "markdown",
   "metadata": {},
   "source": [
    "# Bus\n",
    "\n",
    "This bus has a passenger entry and exit control system to monitor the number of occupants it carries and thus detect when there is too high a capacity.\n",
    "\n",
    "At each stop the entry and exit of passengers is represented by a tuple consisting of two integer numbers.\n",
    "```\n",
    "bus_stop = (in, out)\n",
    "```\n",
    "The succession of stops is represented by a list of these tuples.\n",
    "```\n",
    "stops = [(in1, out1), (in2, out2), (in3, out3), (in4, out4)]\n",
    "```\n",
    "\n",
    "## Goals:\n",
    "* lists, tuples\n",
    "* while/for loops\n",
    "* minimum, maximum, length\n",
    "* average, standard deviation\n",
    "\n",
    "## Tasks\n",
    "1. Calculate the number of stops.\n",
    "2. Assign to a variable a list whose elements are the number of passengers at each stop (in-out),\n",
    "3. Find the maximum occupation of the bus.\n",
    "4. Calculate the average occupation. And the standard deviation.\n"
   ]
  },
  {
   "cell_type": "code",
   "execution_count": null,
   "metadata": {},
   "outputs": [],
   "source": [
    "# variables\n",
    "pass_in = 0\n",
    "pass_out = 0\n",
    "pass_total = 0\n",
    "bus_stop = ()\n",
    "stops = []\n",
    "passengers = []"
   ]
  },
  {
   "cell_type": "code",
   "execution_count": null,
   "metadata": {},
   "outputs": [],
   "source": [
    "# 1. Calculate the number of stops.\n",
    "import time\n",
    "print('Welcome to the Bus Game!\\nWe are going to be a bus driver.')\n",
    "print(\"\\n\\nLet's start with instructions: \")\n",
    "print('1) You should type the number of passegenrs In and Out.')\n",
    "print('\\n2) When the the passagens bus number comes to zero, the bus and game stops.!')\n",
    "\n",
    "nstop = 0 \n",
    "while True:\n",
    "    pass_in = int(input('Passengers get IN: '))\n",
    "    pass_out = int(input('Passengers get OUT: '))\n",
    "    pass_total += (pass_in - pass_out)\n",
    "    print(f'The Bus has {pass_total} passegenrs')\n",
    "    passengers.append(pass_total)\n",
    "    stops.append( ((pass_in),(pass_out)) )\n",
    "    if pass_total == 0:\n",
    "        print(f'The bus has stopped. The number total os stops was {len(passengers)}')\n",
    "        break\n",
    "    for i in range(2):\n",
    "        print('|----|\\n 0--0\\n')\n",
    "        time.sleep(1)\n"
   ]
  },
  {
   "cell_type": "code",
   "execution_count": null,
   "metadata": {},
   "outputs": [],
   "source": [
    "# 3. Find the maximum occupation of the bus.\n",
    "print(passengers)\n",
    "print(max(passengers))"
   ]
  },
  {
   "cell_type": "code",
   "execution_count": null,
   "metadata": {},
   "outputs": [],
   "source": [
    "# 4. Calculate the average occupation. And the standard deviation.\n",
    "import statistics\n",
    "print(f\"In and out's: {stops}\")\n",
    "print(f\"Average occupation: {sum(passengers)/len(passengers)}\")\n",
    "print(f'Standard Deviation: {statistics.pstdev(passengers)}')\n"
   ]
  }
 ],
 "metadata": {
  "kernelspec": {
   "display_name": "Python 3",
   "language": "python",
   "name": "python3"
  },
  "language_info": {
   "codemirror_mode": {
    "name": "ipython",
    "version": 3
   },
   "file_extension": ".py",
   "mimetype": "text/x-python",
   "name": "python",
   "nbconvert_exporter": "python",
   "pygments_lexer": "ipython3",
   "version": "3.7.3"
  }
 },
 "nbformat": 4,
 "nbformat_minor": 2
}
