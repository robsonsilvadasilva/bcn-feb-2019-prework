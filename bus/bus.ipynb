{
 "cells": [
  {
   "cell_type": "markdown",
   "metadata": {},
   "source": [
    "# Bus\n",
    "\n",
    "This bus has a passenger entry and exit control system to monitor the number of occupants it carries and thus detect when there is too high a capacity.\n",
    "\n",
    "At each stop the entry and exit of passengers is represented by a tuple consisting of two integer numbers.\n",
    "```\n",
    "bus_stop = (in, out)\n",
    "```\n",
    "The succession of stops is represented by a list of these tuples.\n",
    "```\n",
    "stops = [(in1, out1), (in2, out2), (in3, out3), (in4, out4)]\n",
    "```\n",
    "\n",
    "## Goals:\n",
    "* lists, tuples\n",
    "* while/for loops\n",
    "* minimum, maximum, length\n",
    "* average, standard deviation\n",
    "\n",
    "## Tasks\n",
    "1. Calculate the number of stops.\n",
    "2. Assign to a variable a list whose elements are the number of passengers at each stop (in-out),\n",
    "3. Find the maximum occupation of the bus.\n",
    "4. Calculate the average occupation. And the standard deviation.\n"
   ]
  },
  {
   "cell_type": "code",
   "execution_count": 41,
   "metadata": {},
   "outputs": [],
   "source": [
    "# variables\n",
    "pass_in = 0\n",
    "pass_out = 0\n",
    "pass_total = 0\n",
    "bus_stop = ()\n",
    "stops = []\n",
    "passengers = []\n"
   ]
  },
  {
   "cell_type": "code",
   "execution_count": 42,
   "metadata": {},
   "outputs": [
    {
     "name": "stdout",
     "output_type": "stream",
     "text": [
      "Welcome to the Bus Game!\n",
      "We are going to play as a bus driver.\n",
      "\n",
      "Let's start with instructions: \n",
      "1) You should type the number of passegenrs In and Out.\n",
      "2) When the number comes to zero, the game stops.!\n",
      "Passengers get IN: 90\n",
      "Passengers get OUT: 7\n",
      "The Bus has 83 passegenrs\n",
      "|----|\n",
      " 0--0\n",
      "\n",
      "|----|\n",
      " 0--0\n",
      "\n",
      "|----|\n",
      " 0--0\n",
      "\n",
      "Passengers get IN: 45\n",
      "Passengers get OUT: 9\n",
      "The Bus has 119 passegenrs\n",
      "|----|\n",
      " 0--0\n",
      "\n",
      "|----|\n",
      " 0--0\n",
      "\n",
      "|----|\n",
      " 0--0\n",
      "\n",
      "Passengers get IN: 6\n",
      "Passengers get OUT: 21\n",
      "The Bus has 104 passegenrs\n",
      "|----|\n",
      " 0--0\n",
      "\n",
      "|----|\n",
      " 0--0\n",
      "\n",
      "|----|\n",
      " 0--0\n",
      "\n",
      "Passengers get IN: 1\n",
      "Passengers get OUT: 56\n",
      "The Bus has 49 passegenrs\n",
      "|----|\n",
      " 0--0\n",
      "\n",
      "|----|\n",
      " 0--0\n",
      "\n",
      "|----|\n",
      " 0--0\n",
      "\n",
      "Passengers get IN: 0\n",
      "Passengers get OUT: 20\n",
      "The Bus has 29 passegenrs\n",
      "|----|\n",
      " 0--0\n",
      "\n",
      "|----|\n",
      " 0--0\n",
      "\n",
      "|----|\n",
      " 0--0\n",
      "\n",
      "Passengers get IN: 0\n",
      "Passengers get OUT: 29\n",
      "The Bus has 0 passegenrs\n",
      "The bus has stopped. The number total os stops was 6\n"
     ]
    }
   ],
   "source": [
    "# 1. Calculate the number of stops.\n",
    "import time\n",
    "print(\"Welcome to the Bus Game!\\nWe are going to play as a bus driver.\\n\\nLet's start with instructions: \")\n",
    "print('1) You should type the number of passegenrs In and Out.\\n2) When the number comes to zero, the game stops.!')\n",
    "\n",
    "nstop = 0 \n",
    "while True:\n",
    "    pass_in = int(input('Passengers get IN: '))\n",
    "    pass_out = int(input('Passengers get OUT: '))\n",
    "    pass_total += pass_in - pass_out\n",
    "    print(f'The Bus has {pass_total} passegenrs')\n",
    "    passengers.append(pass_total)\n",
    "    stops.append( ((pass_in),(pass_out)) )\n",
    "    if pass_total == 0:\n",
    "        print(f'The bus has stopped. The number total os stops was {len(passengers)}')\n",
    "        break\n",
    "    for i in range(3):\n",
    "        print('|----|\\n 0--0\\n')\n",
    "        time.sleep(2)\n"
   ]
  },
  {
   "cell_type": "code",
   "execution_count": 43,
   "metadata": {},
   "outputs": [
    {
     "name": "stdout",
     "output_type": "stream",
     "text": [
      "[83, 119, 104, 49, 29, 0]\n",
      "119\n"
     ]
    }
   ],
   "source": [
    "# 3. Find the maximum occupation of the bus.\n",
    "print(passengers)\n",
    "print(max(passengers))"
   ]
  },
  {
   "cell_type": "code",
   "execution_count": 44,
   "metadata": {},
   "outputs": [
    {
     "name": "stdout",
     "output_type": "stream",
     "text": [
      "In and out's: [(90, 7), (45, 9), (6, 21), (1, 56), (0, 20), (0, 29)]\n",
      "Average occupation: 64.0\n",
      "Standard Deviation: 41.896698358383006\n"
     ]
    }
   ],
   "source": [
    "# 4. Calculate the average occupation. And the standard deviation.\n",
    "import statistics\n",
    "print(f\"In and out's: {stops}\")\n",
    "print(f\"Average occupation: {sum(passengers)/len(passengers)}\")\n",
    "print(f'Standard Deviation: {statistics.pstdev(passengers)}')\n"
   ]
  },
  {
   "cell_type": "code",
   "execution_count": null,
   "metadata": {},
   "outputs": [],
   "source": []
  }
 ],
 "metadata": {
  "kernelspec": {
   "display_name": "Python 3",
   "language": "python",
   "name": "python3"
  },
  "language_info": {
   "codemirror_mode": {
    "name": "ipython",
    "version": 3
   },
   "file_extension": ".py",
   "mimetype": "text/x-python",
   "name": "python",
   "nbconvert_exporter": "python",
   "pygments_lexer": "ipython3",
   "version": "3.7.3"
  }
 },
 "nbformat": 4,
 "nbformat_minor": 2
}
