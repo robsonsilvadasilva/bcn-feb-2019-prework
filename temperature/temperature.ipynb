{
 "cells": [
  {
   "cell_type": "markdown",
   "metadata": {},
   "source": [
    "# Processor temperature\n",
    "\n",
    "We have a temperature sensor in the processor of our company's server. We want to analyze the data provided to determinate whether we should change the cooling system for a better one. It is expensive and as a data analyst we cannot make decisions without a basis.\n",
    "\n",
    "We provide the temperatures measured throughout the 24 hours of a day in a list-type data structure composed of 24 integers:\n",
    "```\n",
    "temperatures_C = [33,66,65,0,59,60,62,64,70,76,80,69,80,83,68,79,61,53,50,49,53,48,45,39]\n",
    "```\n",
    "\n",
    "## Goals\n",
    "\n",
    "1. Treatment of lists\n",
    "2. Use of loop or list comprenhention\n",
    "3. Calculation of the mean, minimum and maximum.\n",
    "4. Filtering of lists.\n",
    "5. Interpolate an outlier.\n",
    "6. Logical operators.\n",
    "7. Print"
   ]
  },
  {
   "cell_type": "markdown",
   "metadata": {},
   "source": [
    "## Temperature graph\n",
    "To facilitate understanding, the temperature graph is shown below. You do not have to do anything in this section. The test starts in **Problem**."
   ]
  },
  {
   "cell_type": "code",
   "execution_count": null,
   "metadata": {},
   "outputs": [],
   "source": [
    "# import\n",
    "import matplotlib.pyplot as plt\n",
    "%matplotlib inline\n",
    "\n",
    "# axis x, axis y\n",
    "y = [33,66,65,0,59,60,62,64,70,76,80,81,80,83,90,79,61,53,50,49,53,48,45,39]\n",
    "x = list(range(len(y)))\n",
    "\n",
    "# plot\n",
    "plt.plot(x, y)\n",
    "plt.axhline(y=70, linewidth=1, color='r')\n",
    "plt.xlabel('hours')\n",
    "plt.ylabel('Temperature ºC')\n",
    "plt.title('Temperatures of our server throughout the day')"
   ]
  },
  {
   "cell_type": "markdown",
   "metadata": {},
   "source": [
    "## Problem\n",
    "\n",
    "If the sensor detects more than 4 hours with temperatures greater than or equal to 70ºC or any temperature above 80ºC or the average exceeds 65ºC throughout the day, we must give the order to change the cooling system to avoid damaging the processor.\n",
    "\n",
    "We will guide you step by step so you can make the decision by calculating some intermediate steps:\n",
    "\n",
    "1. Minimum temperature\n",
    "2. Maximum temperature\n",
    "3. Temperatures equal to or greater than 70ºC\n",
    "4. Average temperatures throughout the day.\n",
    "5. If there was a sensor failure at 03:00 and we did not capture the data, how would you estimate the value that we lack? Correct that value in the list of temperatures.\n",
    "6. Bonus: Our maintenance staff is from the United States and does not understand the international metric system. Pass temperatures to Degrees Fahrenheit.\n",
    "\n",
    "Formula: F = 1.8 * C + 32\n",
    "\n",
    "web: https://en.wikipedia.org/wiki/Conversion_of_units_of_temperature\n"
   ]
  },
  {
   "cell_type": "code",
   "execution_count": null,
   "metadata": {
    "scrolled": true
   },
   "outputs": [],
   "source": [
    "# assign a variable to the list of temperatures\n",
    "\n",
    "# 1. Calculate the minimum of the list and print the value using print()\n",
    "print(f'Minimum: {min(y)}')\n",
    "\n",
    "# 2. Calculate the maximum of the list and print the value using print()\n",
    "print(f'Maximum: {max(y)}')\n",
    "\n",
    "# 3. Items in the list that are greater than 70ºC and print the result\n",
    "greater = [i for i in y if i >= 70]\n",
    "print(f'\\ngreater than or equal 70ºC: {greater}\\n')\n",
    "\n",
    "# 4. Calculate the mean temperature throughout the day and print the result\n",
    "mean_temp = sum(y)/len(y)\n",
    "print(f'mean temperature throughout the day: {mean_temp}')\n",
    "\n",
    "\n",
    "# 5.1 Solve the fault in the sensor by estimating a value\n",
    "#findinf the index of 0 value.\n",
    "print(f'failure at index: {y.index(0)}')\n",
    "#removing the 0\n",
    "y.remove(0)\n",
    "#Calcuting the mean again:\n",
    "mean_temp2 = sum(y)/len(y)\n",
    "print(f'mean temperature without failure: {round(mean_temp2)}')\n",
    "\n",
    "# 5.2 Update of the estimated value at 03:00 on the list\n",
    "y.insert(3,round(mean_temp2))\n",
    "print(f'List of temperatures corrected: {y}\\n')\n",
    "\n",
    "# Bonus: convert the list of ºC to ºFarenheit\n",
    "yfaren = []\n",
    "for i in y:\n",
    "    yfaren.append(round(1.8*i + 32.2,2))\n",
    "print(f'Temperatures in Farenheit: {yfaren}')\n",
    "      "
   ]
  },
  {
   "cell_type": "markdown",
   "metadata": {},
   "source": [
    "## Take the decision\n",
    "Remember that if the sensor detects more than 4 hours with temperatures greater than or equal to 70ºC or any temperature higher than 80ºC or the average was higher than 65ºC throughout the day, we must give the order to change the cooling system to avoid the danger of damaging the equipment:\n",
    "* __case1__: more than 4 hours with temperatures greater than or equal to 70ºC\n",
    "* __case2__: some temperature higher than 80ºC\n",
    "* __case3__: average was higher than 65ºC throughout the day\n",
    "\n",
    "If any of these three is met, the cooling system must be changed.\n"
   ]
  },
  {
   "cell_type": "code",
   "execution_count": null,
   "metadata": {},
   "outputs": [],
   "source": [
    "# Print True or False depending on whether you would change the cooling system or not\n",
    "import statistics\n",
    "\n",
    "mean_list = []\n",
    "temp_on = 0\n",
    "change = 0\n",
    "for i in y:\n",
    "    mean_list.append(i)\n",
    "    if i > 80:\n",
    "        change = 1\n",
    "        print('case2')\n",
    "        break\n",
    "    elif statistics.mean(mean_list) > 65:\n",
    "        change = 1\n",
    "        print('case3')\n",
    "        break\n",
    "    elif i > 70:\n",
    "        temp_on +=1;\n",
    "        if temp_on == 4:\n",
    "            change = 1\n",
    "            print('case1')\n",
    "            break\n",
    "    else:\n",
    "        temp_on = 0\n",
    "\n",
    "if change == 0:\n",
    "    print('False')\n",
    "else:\n",
    "    print('True')"
   ]
  },
  {
   "cell_type": "markdown",
   "metadata": {},
   "source": [
    "## Future improvements\n",
    "1. We want the hours (not the temperatures) whose temperature exceeds 70ºC\n",
    "2. Condition that those hours are more than 4 consecutive and consecutive, not simply the sum of the whole set. Is this condition met?\n",
    "3. Average of each of the lists (ºC and ºF). How they relate?\n",
    "4. Standard deviation of each of the lists. How they relate?\n"
   ]
  },
  {
   "cell_type": "code",
   "execution_count": null,
   "metadata": {},
   "outputs": [],
   "source": [
    "# 1. We want the hours (not the temperatures) whose temperature exceeds 70ºC\n",
    "for i in range(len(y)):\n",
    "    if y[i] > 70:\n",
    "        if i < 12:\n",
    "            print(f'{i}:00 AM', end=', ')\n",
    "        else:\n",
    "            print(f'{i}:00 PM', end=', ')"
   ]
  },
  {
   "cell_type": "code",
   "execution_count": null,
   "metadata": {},
   "outputs": [],
   "source": [
    "# 2. Condition that those hours are more than 4 consecutive and consecutive,\n",
    "# not simply the sum of the whole set. Is this condition met?\n",
    "t_on = 0\n",
    "H_temp_ = 0\n",
    "for i in y:\n",
    "    if i>70:\n",
    "        t_on+=1\n",
    "        if t_on == 4:\n",
    "            H_temp=1\n",
    "            break;\n",
    "    else:\n",
    "        t_on = 0\n",
    "if H_temp==1:\n",
    "    print('Higher Temperature')\n",
    "else:\n",
    "    print('The system is safe')"
   ]
  },
  {
   "cell_type": "code",
   "execution_count": null,
   "metadata": {},
   "outputs": [],
   "source": [
    "# 3. Average of each of the lists (ºC and ºF). How they relate?\n",
    "print(f'Celsius avg: {statistics.mean(y)}')\n",
    "print(f'Farenheit avg function: {statistics.mean(yfaren)}')\n",
    "\n",
    "# We can prove that the Farenheit mean will be  = 1.8*(Celsius_mean) + 32.2. The values are\n",
    "# related by a linear function. They are not independent. See below. In linear transformations \n",
    "# there is the association rule.\n",
    "print(f'Farenheit avg from celsius mean: {statistics.mean(y)*1.8 + 32.2}')"
   ]
  },
  {
   "cell_type": "code",
   "execution_count": null,
   "metadata": {},
   "outputs": [],
   "source": [
    "# 4. Standard deviation of each of the lists. How they relate?\n",
    "print(f'Celsius avg: {statistics.pstdev(y)}')\n",
    "print(f'Farenheit avg: {statistics.pstdev(yfare)}')\n",
    "\n",
    "print(statistics.pstdev(yfare)/statistics.pstdev(y))\n",
    "\n",
    "# As we can see below. The Farenheit standard deviation was multiplied \n",
    "# by a factor of 1.8 (curve slope) as we did in our formula (1.8ºC + ...).\n",
    "\n",
    "\n",
    "\n"
   ]
  }
 ],
 "metadata": {
  "kernelspec": {
   "display_name": "Python 3",
   "language": "python",
   "name": "python3"
  },
  "language_info": {
   "codemirror_mode": {
    "name": "ipython",
    "version": 3
   },
   "file_extension": ".py",
   "mimetype": "text/x-python",
   "name": "python",
   "nbconvert_exporter": "python",
   "pygments_lexer": "ipython3",
   "version": "3.7.3"
  }
 },
 "nbformat": 4,
 "nbformat_minor": 2
}
