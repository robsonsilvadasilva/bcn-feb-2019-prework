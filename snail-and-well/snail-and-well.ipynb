{
 "cells": [
  {
   "cell_type": "markdown",
   "metadata": {},
   "source": [
    "# Snail and well\n",
    "\n",
    "A snail falls at the bottom of a 125 cm well. Each day the snail rises 30 cm. But at night, while sleeping, slides 20 cm because the walls are wet. How many days does it take to escape from the well?\n",
    "\n",
    "TIP: http://puzzles.nigelcoldwell.co.uk/sixtytwo.htm"
   ]
  },
  {
   "cell_type": "markdown",
   "metadata": {},
   "source": [
    "## Solución"
   ]
  },
  {
   "cell_type": "code",
   "execution_count": 9,
   "metadata": {},
   "outputs": [
    {
     "name": "stdout",
     "output_type": "stream",
     "text": [
      "Type the Height(cm) of the Well: 125\n",
      "Type the daily advance (cm) of the Snail: 30\n",
      "Type the night retreat (cm) of the Snail: 20\n",
      "Days = 11\n"
     ]
    }
   ],
   "source": [
    "def snail(h, day, night):\n",
    "    accum = 0\n",
    "    days = 0\n",
    "    \n",
    "    while True:\n",
    "        days+=1\n",
    "        accum += day\n",
    "        if accum >=h:\n",
    "            break\n",
    "        accum -= night\n",
    "        \n",
    "    print(f'Days = {days}')\n",
    "\n",
    "\n",
    "# Print the result with print('Days =', days)\n",
    "well_height = int(input('Type the Height(cm) of the Well: '))\n",
    "daily_advance = int(input('Type the daily advance (cm) of the Snail: '))\n",
    "night_retreat = int(input('Type the night retreat (cm) of the Snail: '))\n",
    "snail(well_height, daily_advance, night_retreat)\n",
    "    "
   ]
  },
  {
   "cell_type": "code",
   "execution_count": null,
   "metadata": {},
   "outputs": [],
   "source": []
  },
  {
   "cell_type": "markdown",
   "metadata": {},
   "source": [
    "## Goals\n",
    "\n",
    "1. Treatment of variables\n",
    "2. Use of loop **while**\n",
    "3. Use of conditional **if-else**\n",
    "4. Print in console"
   ]
  },
  {
   "cell_type": "markdown",
   "metadata": {},
   "source": [
    "## Bonus\n",
    "The distance traveled by the snail is now defined by a list.\n",
    "```\n",
    "advance_cm = [30, 21, 33, 77, 44, 45, 23, 45, 12, 34, 55]\n",
    "```\n",
    "How long does it take to raise the well?\n",
    "\n",
    "What is its maximum displacement in one day? And its minimum?\n",
    "\n",
    "What is its average speed during the day?\n",
    "\n",
    "What is the standard deviation of its displacement during the day?"
   ]
  },
  {
   "cell_type": "code",
   "execution_count": 2,
   "metadata": {},
   "outputs": [
    {
     "name": "stdout",
     "output_type": "stream",
     "text": [
      "Snail took 419cm to raise the well.\n",
      "Maximun displacement: 77cm; Minimum Displacement: 12cm.\n",
      "Average Speed: 38.09cm\n",
      "38.09090909090909\n",
      "Standard Deviation: 17.16 cm\n"
     ]
    }
   ],
   "source": [
    "import statistics\n",
    "\n",
    "advance_cm = [30, 21, 33, 77, 44, 45, 23, 45, 12, 34, 55]\n",
    "    \n",
    "# 1) How long does it take to raise the well?\n",
    "print(f'Snail took {sum(advance_cm)}cm to raise the well.')\n",
    "\n",
    "# 2) What is its maximum displacement in one day? And its minimum?\n",
    "print(f'Maximun displacement: {max(advance_cm)}cm; Minimum Displacement: {min(advance_cm)}cm.')\n",
    "\n",
    "# 3) What is its average speed during the day?\n",
    "print(f'Average Speed: {round(sum(advance_cm)/len(advance_cm),2)}cm')\n",
    "print(statistics.mean(advance_cm))\n",
    "\n",
    "# 4) What is the standard deviation of its displacement during the day? \n",
    "print(f'Standard Deviation: {round(statistics.pstdev(advance_cm),2)} cm')\n"
   ]
  },
  {
   "cell_type": "code",
   "execution_count": null,
   "metadata": {},
   "outputs": [],
   "source": []
  }
 ],
 "metadata": {
  "kernelspec": {
   "display_name": "Python 3",
   "language": "python",
   "name": "python3"
  },
  "language_info": {
   "codemirror_mode": {
    "name": "ipython",
    "version": 3
   },
   "file_extension": ".py",
   "mimetype": "text/x-python",
   "name": "python",
   "nbconvert_exporter": "python",
   "pygments_lexer": "ipython3",
   "version": "3.7.3"
  }
 },
 "nbformat": 4,
 "nbformat_minor": 2
}
